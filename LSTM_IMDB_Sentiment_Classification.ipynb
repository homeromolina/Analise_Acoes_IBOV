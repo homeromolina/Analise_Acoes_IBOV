{
  "nbformat": 4,
  "nbformat_minor": 0,
  "metadata": {
    "colab": {
      "provenance": [],
      "authorship_tag": "ABX9TyPL0cXO5YhocsxPuicmHtu2",
      "include_colab_link": true
    },
    "kernelspec": {
      "name": "python3",
      "display_name": "Python 3"
    },
    "language_info": {
      "name": "python"
    }
  },
  "cells": [
    {
      "cell_type": "markdown",
      "metadata": {
        "id": "view-in-github",
        "colab_type": "text"
      },
      "source": [
        "<a href=\"https://colab.research.google.com/github/homeromolina/Analysis/blob/main/LSTM_IMDB_Sentiment_Classification.ipynb\" target=\"_parent\"><img src=\"https://colab.research.google.com/assets/colab-badge.svg\" alt=\"Open In Colab\"/></a>"
      ]
    },
    {
      "cell_type": "code",
      "execution_count": 1,
      "metadata": {
        "colab": {
          "base_uri": "https://localhost:8080/"
        },
        "id": "KmZg1r13MAWo",
        "outputId": "e1204684-0931-465d-b7de-98b5dde2c4e5"
      },
      "outputs": [
        {
          "output_type": "stream",
          "name": "stdout",
          "text": [
            "Using CPU\n"
          ]
        }
      ],
      "source": [
        "%matplotlib inline\n",
        "\n",
        "from pathlib import Path\n",
        "\n",
        "import numpy as np\n",
        "import pandas as pd\n",
        "from sklearn.metrics import roc_auc_score\n",
        "\n",
        "import tensorflow as tf\n",
        "from tensorflow.keras.callbacks import ModelCheckpoint, EarlyStopping\n",
        "from tensorflow.keras.datasets import imdb\n",
        "from tensorflow.keras.models import Sequential\n",
        "from tensorflow.keras.layers import Dense, GRU, Embedding\n",
        "from tensorflow.keras.preprocessing.sequence import pad_sequences\n",
        "import tensorflow.keras.backend as K\n",
        "\n",
        "import matplotlib.pyplot as plt\n",
        "import seaborn as sns\n",
        "gpu_devices = tf.config.experimental.list_physical_devices('GPU')\n",
        "if gpu_devices:\n",
        "    print('Using GPU')\n",
        "    tf.config.experimental.set_memory_growth(gpu_devices[0], True)\n",
        "else:\n",
        "    print('Using CPU')\n",
        "\n",
        "sns.set_style('whitegrid')\n",
        "np.random.seed(42)\n",
        "results_path = Path('results', 'sentiment_imdb')\n",
        "if not results_path.exists():\n",
        "    results_path.mkdir(parents=True)"
      ]
    },
    {
      "cell_type": "markdown",
      "source": [
        "# Prepare Data"
      ],
      "metadata": {
        "id": "gtt_H7PwQTDq"
      }
    },
    {
      "cell_type": "code",
      "source": [
        "vocab_size = 20000"
      ],
      "metadata": {
        "id": "D-PL7Hv_MCqj"
      },
      "execution_count": 2,
      "outputs": []
    },
    {
      "cell_type": "code",
      "source": [
        "(X_train, y_train), (X_test, y_test) = imdb.load_data(seed=42, \n",
        "                                                      skip_top=0,\n",
        "                                                      maxlen=None, \n",
        "                                                      oov_char=2, \n",
        "                                                      index_from=3,\n",
        "                                                      num_words=vocab_size)"
      ],
      "metadata": {
        "id": "LWtT7Z4CMICS"
      },
      "execution_count": 3,
      "outputs": []
    },
    {
      "cell_type": "code",
      "source": [
        "y_train"
      ],
      "metadata": {
        "colab": {
          "base_uri": "https://localhost:8080/"
        },
        "id": "jSudBba6MKNS",
        "outputId": "b463b96f-9511-4d2d-b098-4a5a2baef83d"
      },
      "execution_count": 4,
      "outputs": [
        {
          "output_type": "execute_result",
          "data": {
            "text/plain": [
              "array([1, 0, 1, ..., 1, 0, 0])"
            ]
          },
          "metadata": {},
          "execution_count": 4
        }
      ]
    },
    {
      "cell_type": "code",
      "source": [
        "ax = sns.distplot([len(review) for review in X_train])\n",
        "ax.set(xscale='log');"
      ],
      "metadata": {
        "colab": {
          "base_uri": "https://localhost:8080/",
          "height": 324
        },
        "id": "KbtsadtTMj4r",
        "outputId": "83a95758-9372-453f-c374-d66c61617443"
      },
      "execution_count": 5,
      "outputs": [
        {
          "output_type": "stream",
          "name": "stderr",
          "text": [
            "/usr/local/lib/python3.8/dist-packages/seaborn/distributions.py:2619: FutureWarning: `distplot` is a deprecated function and will be removed in a future version. Please adapt your code to use either `displot` (a figure-level function with similar flexibility) or `histplot` (an axes-level function for histograms).\n",
            "  warnings.warn(msg, FutureWarning)\n"
          ]
        },
        {
          "output_type": "display_data",
          "data": {
            "text/plain": [
              "<Figure size 432x288 with 1 Axes>"
            ],
            "image/png": "[encoded data removed]"
          },
          "metadata": {}
        }
      ]
    },
    {
      "cell_type": "code",
      "source": [
        "\"\"\"\n",
        "Esse passo é necessário porque a maioria das redes neurais trabalha com dados numéricos e com formato de matrizes, \n",
        "e as sequências de dados de entrada geralmente não possuem o mesmo tamanho. Ao utilizar a função pad_sequences, \n",
        "é possível garantir que todas as sequências tenham o mesmo tamanho, permitindo que a rede neural processe esses dados de forma consistente. \n",
        "Além disso, ao adicionar padding às sequências curtas, é possível evitar problemas de dimensionalidade durante o treinamento da rede neural.\n",
        "\"\"\"\n",
        "\n",
        "maxlen = 100\n",
        "\n",
        "X_train_padded = pad_sequences(X_train, \n",
        "                        truncating='pre', \n",
        "                        padding='pre', \n",
        "                        maxlen=maxlen)\n",
        "\n",
        "X_test_padded = pad_sequences(X_test, \n",
        "                       truncating='pre', \n",
        "                       padding='pre', \n",
        "                       maxlen=maxlen)\n",
        "\n",
        "X_train_padded.shape, X_test_padded.shape"
      ],
      "metadata": {
        "colab": {
          "base_uri": "https://localhost:8080/"
        },
        "id": "w89csIXhNWUX",
        "outputId": "6c8841c3-d436-4ba3-ef8e-08e122b2d852"
      },
      "execution_count": 6,
      "outputs": [
        {
          "output_type": "execute_result",
          "data": {
            "text/plain": [
              "((25000, 100), (25000, 100))"
            ]
          },
          "metadata": {},
          "execution_count": 6
        }
      ]
    },
    {
      "cell_type": "code",
      "source": [],
      "metadata": {
        "id": "Rix-6gyaNYJM"
      },
      "execution_count": 6,
      "outputs": []
    },
    {
      "cell_type": "markdown",
      "source": [
        "# Define Model Architecture"
      ],
      "metadata": {
        "id": "7E02s8JuQXuU"
      }
    },
    {
      "cell_type": "code",
      "source": [
        "K.clear_session()"
      ],
      "metadata": {
        "id": "mvcaLco8QZL0"
      },
      "execution_count": 7,
      "outputs": []
    },
    {
      "cell_type": "markdown",
      "source": [
        "> The K.clear_session() function is from the Keras library and it's used to clear the session and release all the resources used by the previous models. This can be useful in cases where you're training multiple models in a single script, and you want to start fresh with a new model, without being affected by the previous one. This function will remove all the nodes from the current default graph, but it won't delete the graph itself."
      ],
      "metadata": {
        "id": "LQCJyNlrQrSm"
      }
    },
    {
      "cell_type": "code",
      "source": [
        "%%time\n",
        "\n",
        "embedding_size = 100\n",
        "\n",
        "rnn = Sequential([\n",
        "    Embedding(input_dim=vocab_size, \n",
        "              output_dim= embedding_size, \n",
        "              input_length=maxlen),\n",
        "    GRU(units=32,     # especifica o número de neurônios ocultos na camada\n",
        "        dropout=0.2, \n",
        "        recurrent_dropout=0.2),\n",
        "    Dense(1, activation='sigmoid') # camada binária, tendo como output sentimento positivou ou negativo\n",
        "])\n",
        "rnn.summary()"
      ],
      "metadata": {
        "colab": {
          "base_uri": "https://localhost:8080/"
        },
        "id": "g_RZE_dwQuEH",
        "outputId": "d09c5a78-22c4-49de-c4c3-3cb0f601a0a7"
      },
      "execution_count": 8,
      "outputs": [
        {
          "output_type": "stream",
          "name": "stdout",
          "text": [
            "Model: \"sequential\"\n",
            "_________________________________________________________________\n",
            " Layer (type)                Output Shape              Param #   \n",
            "=================================================================\n",
            " embedding (Embedding)       (None, 100, 100)          2000000   \n",
            "                                                                 \n",
            " gru (GRU)                   (None, 32)                12864     \n",
            "                                                                 \n",
            " dense (Dense)               (None, 1)                 33        \n",
            "                                                                 \n",
            "=================================================================\n",
            "Total params: 2,012,897\n",
            "Trainable params: 2,012,897\n",
            "Non-trainable params: 0\n",
            "_________________________________________________________________\n",
            "CPU times: user 554 ms, sys: 19.4 ms, total: 574 ms\n",
            "Wall time: 572 ms\n"
          ]
        }
      ]
    },
    {
      "cell_type": "code",
      "source": [
        "rnn.compile(loss='binary_crossentropy', \n",
        "            optimizer='RMSProp', \n",
        "            metrics=['accuracy', \n",
        "                     tf.keras.metrics.AUC(name='AUC')])"
      ],
      "metadata": {
        "id": "GPiVKS0PQ4I_"
      },
      "execution_count": 14,
      "outputs": []
    },
    {
      "cell_type": "code",
      "source": [
        "rnn_path = (results_path / 'lstm.h5').as_posix()\n",
        "\n",
        "checkpointer = ModelCheckpoint(filepath=rnn_path,\n",
        "                               verbose=1,\n",
        "                               monitor='val_AUC',\n",
        "                               mode='max',\n",
        "                               save_best_only=True)"
      ],
      "metadata": {
        "id": "HIevK6LWTHzW"
      },
      "execution_count": 16,
      "outputs": []
    },
    {
      "cell_type": "code",
      "source": [
        "early_stopping = EarlyStopping(monitor='val_AUC', \n",
        "                               mode='max',\n",
        "                              patience=5,\n",
        "                              restore_best_weights=True)"
      ],
      "metadata": {
        "colab": {
          "base_uri": "https://localhost:8080/"
        },
        "id": "xY9h0uCATKNk",
        "outputId": "6781d826-9670-4ea6-ddce-e0ace2b33305"
      },
      "execution_count": 18,
      "outputs": [
        {
          "output_type": "execute_result",
          "data": {
            "text/plain": [
              "<keras.callbacks.EarlyStopping at 0x7f8d6b309c70>"
            ]
          },
          "metadata": {},
          "execution_count": 18
        }
      ]
    },
    {
      "cell_type": "markdown",
      "source": [
        "> O treinamento para após oito épocas e recuperamos os pesos dos melhores modelos para encontrar um AUC de teste alto de 0,9346"
      ],
      "metadata": {
        "id": "hEs6CkeWTSVO"
      }
    },
    {
      "cell_type": "code",
      "source": [
        "%%time\n",
        "\n",
        "\"\"\"\n",
        "This code is training a Recurrent Neural Network (RNN) using the 'binary_crossentropy' loss function, \n",
        "the RMSProp optimizer, and the metrics 'accuracy' and 'AUC'. The model is then saved to a file specified \n",
        "by the 'rnn_path' variable using the 'ModelCheckpoint' callback, with the saving criteria being the maximum \n",
        "'val_AUC' and saving only the best model. An 'EarlyStopping' callback is also used with a patience of 5, \n",
        "which will stop the training if the validation 'AUC' does not improve for 5 consecutive epochs, and restore the best weights. \n",
        "The model is trained on the 'X_train_padded' and 'y_train' data and validated on 'X_test_padded' and 'y_test' data.\n",
        "\"\"\"\n",
        "training = rnn.fit(X_train_padded,\n",
        "                   y_train,\n",
        "                   batch_size=32,\n",
        "                   epochs=100,\n",
        "                   validation_data=(X_test_padded, y_test),\n",
        "                   callbacks=[early_stopping, checkpointer],\n",
        "                   verbose=1)"
      ],
      "metadata": {
        "colab": {
          "base_uri": "https://localhost:8080/"
        },
        "id": "CDlIIFkETNrc",
        "outputId": "ac2d057f-ce80-40e5-b244-02615f6d2910"
      },
      "execution_count": 21,
      "outputs": [
        {
          "output_type": "stream",
          "name": "stdout",
          "text": [
            "Epoch 1/100\n",
            "782/782 [==============================] - ETA: 0s - loss: 0.4285 - accuracy: 0.7970 - AUC: 0.8837\n",
            "Epoch 1: val_AUC improved from -inf to 0.93180, saving model to results/sentiment_imdb/lstm.h5\n",
            "782/782 [==============================] - 70s 86ms/step - loss: 0.4285 - accuracy: 0.7970 - AUC: 0.8837 - val_loss: 0.3715 - val_accuracy: 0.8369 - val_AUC: 0.9318\n",
            "Epoch 2/100\n",
            "782/782 [==============================] - ETA: 0s - loss: 0.2881 - accuracy: 0.8824 - AUC: 0.9494\n",
            "Epoch 2: val_AUC improved from 0.93180 to 0.93731, saving model to results/sentiment_imdb/lstm.h5\n",
            "782/782 [==============================] - 63s 81ms/step - loss: 0.2881 - accuracy: 0.8824 - AUC: 0.9494 - val_loss: 0.3240 - val_accuracy: 0.8582 - val_AUC: 0.9373\n",
            "Epoch 3/100\n",
            "782/782 [==============================] - ETA: 0s - loss: 0.2432 - accuracy: 0.9036 - AUC: 0.9638\n",
            "Epoch 3: val_AUC improved from 0.93731 to 0.93793, saving model to results/sentiment_imdb/lstm.h5\n",
            "782/782 [==============================] - 65s 83ms/step - loss: 0.2432 - accuracy: 0.9036 - AUC: 0.9638 - val_loss: 0.3196 - val_accuracy: 0.8608 - val_AUC: 0.9379\n",
            "Epoch 4/100\n",
            "782/782 [==============================] - ETA: 0s - loss: 0.2144 - accuracy: 0.9162 - AUC: 0.9715\n",
            "Epoch 4: val_AUC did not improve from 0.93793\n",
            "782/782 [==============================] - 62s 79ms/step - loss: 0.2144 - accuracy: 0.9162 - AUC: 0.9715 - val_loss: 0.4218 - val_accuracy: 0.8382 - val_AUC: 0.9344\n",
            "Epoch 5/100\n",
            "782/782 [==============================] - ETA: 0s - loss: 0.1893 - accuracy: 0.9274 - AUC: 0.9777\n",
            "Epoch 5: val_AUC improved from 0.93793 to 0.93940, saving model to results/sentiment_imdb/lstm.h5\n",
            "782/782 [==============================] - 61s 78ms/step - loss: 0.1893 - accuracy: 0.9274 - AUC: 0.9777 - val_loss: 0.3599 - val_accuracy: 0.8528 - val_AUC: 0.9394\n",
            "Epoch 6/100\n",
            "782/782 [==============================] - ETA: 0s - loss: 0.1669 - accuracy: 0.9362 - AUC: 0.9825\n",
            "Epoch 6: val_AUC improved from 0.93940 to 0.93978, saving model to results/sentiment_imdb/lstm.h5\n",
            "782/782 [==============================] - 62s 79ms/step - loss: 0.1669 - accuracy: 0.9362 - AUC: 0.9825 - val_loss: 0.3731 - val_accuracy: 0.8545 - val_AUC: 0.9398\n",
            "Epoch 7/100\n",
            "782/782 [==============================] - ETA: 0s - loss: 0.1494 - accuracy: 0.9441 - AUC: 0.9857\n",
            "Epoch 7: val_AUC did not improve from 0.93978\n",
            "782/782 [==============================] - 64s 82ms/step - loss: 0.1494 - accuracy: 0.9441 - AUC: 0.9857 - val_loss: 0.3497 - val_accuracy: 0.8597 - val_AUC: 0.9377\n",
            "Epoch 8/100\n",
            "782/782 [==============================] - ETA: 0s - loss: 0.1339 - accuracy: 0.9520 - AUC: 0.9882\n",
            "Epoch 8: val_AUC did not improve from 0.93978\n",
            "782/782 [==============================] - 63s 80ms/step - loss: 0.1339 - accuracy: 0.9520 - AUC: 0.9882 - val_loss: 0.3662 - val_accuracy: 0.8570 - val_AUC: 0.9363\n",
            "Epoch 9/100\n",
            "782/782 [==============================] - ETA: 0s - loss: 0.1188 - accuracy: 0.9574 - AUC: 0.9904\n",
            "Epoch 9: val_AUC did not improve from 0.93978\n",
            "782/782 [==============================] - 63s 80ms/step - loss: 0.1188 - accuracy: 0.9574 - AUC: 0.9904 - val_loss: 0.3711 - val_accuracy: 0.8540 - val_AUC: 0.9325\n",
            "Epoch 10/100\n",
            "782/782 [==============================] - ETA: 0s - loss: 0.1087 - accuracy: 0.9616 - AUC: 0.9917\n",
            "Epoch 10: val_AUC did not improve from 0.93978\n",
            "782/782 [==============================] - 63s 81ms/step - loss: 0.1087 - accuracy: 0.9616 - AUC: 0.9917 - val_loss: 0.4111 - val_accuracy: 0.8492 - val_AUC: 0.9285\n",
            "Epoch 11/100\n",
            "782/782 [==============================] - ETA: 0s - loss: 0.0959 - accuracy: 0.9661 - AUC: 0.9935\n",
            "Epoch 11: val_AUC did not improve from 0.93978\n",
            "782/782 [==============================] - 63s 81ms/step - loss: 0.0959 - accuracy: 0.9661 - AUC: 0.9935 - val_loss: 0.4376 - val_accuracy: 0.8469 - val_AUC: 0.9252\n",
            "CPU times: user 19min 8s, sys: 42.1 s, total: 19min 50s\n",
            "Wall time: 11min 39s\n"
          ]
        }
      ]
    },
    {
      "cell_type": "code",
      "source": [
        "\"\"\"\n",
        "%%time\n",
        "\n",
        "from tensorflow.distribute import MirroredStrategy\n",
        "\n",
        "strategy = tf.distribute.MirroredStrategy()\n",
        "\n",
        "with strategy.scope():\n",
        "    rnn = Sequential()\n",
        "    # ...build your model\n",
        "    rnn.compile(loss='binary_crossentropy', \n",
        "                optimizer='RMSProp', \n",
        "                metrics=['accuracy', \n",
        "                         tf.keras.metrics.AUC(name='AUC')])\n",
        "    rnn_path = (results_path / 'lstm.h5').as_posix()\n",
        "    checkpointer = ModelCheckpoint(filepath=rnn_path,\n",
        "                                   verbose=1,\n",
        "                                   monitor='val_AUC',\n",
        "                                   mode='max',\n",
        "                                   save_best_only=True)\n",
        "    early_stopping = EarlyStopping(monitor='val_AUC', \n",
        "                                   mode='max',\n",
        "                                   patience=5,\n",
        "                                   restore_best_weights=True)\n",
        "\n",
        "training = rnn.fit(X_train_padded,\n",
        "                   y_train,\n",
        "                   batch_size=32,\n",
        "                   epochs=100,\n",
        "                   validation_data=(X_test_padded, y_test),\n",
        "                   callbacks=[early_stopping,\n",
        "                              callbacks],\n",
        "verbose=1)\n",
        "\"\"\""
      ],
      "metadata": {
        "id": "lG1rY9rGaDSp"
      },
      "execution_count": null,
      "outputs": []
    },
    {
      "cell_type": "code",
      "source": [
        "import tensorflow as tf\n",
        "print(tf.config.list_physical_devices())"
      ],
      "metadata": {
        "colab": {
          "base_uri": "https://localhost:8080/"
        },
        "id": "qAMuG1mqdwr8",
        "outputId": "fa6b15a6-801b-460a-df37-78f8f1970c5b"
      },
      "execution_count": 14,
      "outputs": [
        {
          "output_type": "stream",
          "name": "stdout",
          "text": [
            "[PhysicalDevice(name='/physical_device:CPU:0', device_type='CPU')]\n"
          ]
        }
      ]
    },
    {
      "cell_type": "code",
      "source": [],
      "metadata": {
        "id": "kbryjrk-dw1b"
      },
      "execution_count": null,
      "outputs": []
    },
    {
      "cell_type": "markdown",
      "source": [
        "# Evaluate Results"
      ],
      "metadata": {
        "id": "VALa1IcIXEBo"
      }
    },
    {
      "cell_type": "code",
      "source": [
        "history = pd.DataFrame(training.history)\n",
        "history.index += 1\n",
        "\n",
        "fig, axes = plt.subplots(ncols=2, figsize=(14, 4))\n",
        "df1 = (history[['accuracy', 'val_accuracy']]\n",
        ".rename(columns={'accuracy': 'Training',\n",
        "'val_accuracy': 'Validation'}))\n",
        "df1.plot(ax=axes[0], title='Accuracy', xlim=(1, len(history)))\n",
        "\n",
        "axes[0].axvline(history.val_accuracy.idxmax(), ls='--', lw=1, c='k')\n",
        "\n",
        "df2 = (history[['AUC', 'val_AUC']]\n",
        ".rename(columns={'AUC': 'Training',\n",
        "'val_AUC': 'Validation'}))\n",
        "df2.plot(ax=axes[1], title='Area under the ROC Curve', xlim=(1, len(history)))\n",
        "\n",
        "axes[1].axvline(history.val_AUC.idxmax(), ls='--', lw=1, c='k')\n",
        "\n",
        "for i in [0, 1]:\n",
        "  axes[i].set_xlabel('Epoch')\n",
        "\n",
        "sns.despine()\n",
        "fig.tight_layout()\n",
        "fig.savefig(results_path / 'rnn_imdb_cv', dpi=300)"
      ],
      "metadata": {
        "colab": {
          "base_uri": "https://localhost:8080/",
          "height": 297
        },
        "id": "yax3Ypu2XF6H",
        "outputId": "2af0b0cd-7b1d-492f-f78e-98136b6de24a"
      },
      "execution_count": 31,
      "outputs": [
        {
          "output_type": "display_data",
          "data": {
            "text/plain": [
              "<Figure size 1008x288 with 2 Axes>"
            ],
            "image/png": "[encoded data removed]"
          },
          "metadata": {}
        }
      ]
    },
    {
      "cell_type": "code",
      "source": [
        "%%time\n",
        "\n",
        "y_score = rnn.predict(X_test_padded)\n",
        "y_score.shape"
      ],
      "metadata": {
        "colab": {
          "base_uri": "https://localhost:8080/"
        },
        "id": "oUZjJyooXJYh",
        "outputId": "06530229-4c25-40f5-bbe0-8fbc8c04e208"
      },
      "execution_count": 27,
      "outputs": [
        {
          "output_type": "stream",
          "name": "stdout",
          "text": [
            "782/782 [==============================] - 10s 13ms/step\n",
            "CPU times: user 11.8 s, sys: 497 ms, total: 12.3 s\n",
            "Wall time: 10.3 s\n"
          ]
        },
        {
          "output_type": "execute_result",
          "data": {
            "text/plain": [
              "(25000, 1)"
            ]
          },
          "metadata": {},
          "execution_count": 27
        }
      ]
    },
    {
      "cell_type": "code",
      "source": [
        "%%time\n",
        "roc_auc_score(y_score=y_score.squeeze(), y_true=y_test)"
      ],
      "metadata": {
        "colab": {
          "base_uri": "https://localhost:8080/"
        },
        "id": "GfEspqGUXL1A",
        "outputId": "690ecf3b-2f5f-4d11-f29b-98455dfc23e4"
      },
      "execution_count": 29,
      "outputs": [
        {
          "output_type": "stream",
          "name": "stdout",
          "text": [
            "CPU times: user 16 ms, sys: 0 ns, total: 16 ms\n",
            "Wall time: 18.2 ms\n"
          ]
        },
        {
          "output_type": "execute_result",
          "data": {
            "text/plain": [
              "0.940257824"
            ]
          },
          "metadata": {},
          "execution_count": 29
        }
      ]
    },
    {
      "cell_type": "code",
      "source": [],
      "metadata": {
        "id": "CxbqUnZtYjVZ"
      },
      "execution_count": null,
      "outputs": []
    }
  ]
}